{
  "nbformat": 4,
  "nbformat_minor": 0,
  "metadata": {
    "colab": {
      "provenance": [],
      "toc_visible": true,
      "authorship_tag": "ABX9TyOPdT5grr5d/HWK3lejSCvC",
      "include_colab_link": true
    },
    "kernelspec": {
      "name": "python3",
      "display_name": "Python 3"
    },
    "language_info": {
      "name": "python"
    }
  },
  "cells": [
    {
      "cell_type": "markdown",
      "metadata": {
        "id": "view-in-github",
        "colab_type": "text"
      },
      "source": [
        "<a href=\"https://colab.research.google.com/github/jleonoras/MergeFiles2Workbook/blob/main/Merge_Files_to_Workbook.ipynb\" target=\"_parent\"><img src=\"https://colab.research.google.com/assets/colab-badge.svg\" alt=\"Open In Colab\"/></a>"
      ]
    },
    {
      "cell_type": "markdown",
      "source": [
        "#**Merge selected CSV files into one workbook with separate sheets.**"
      ],
      "metadata": {
        "id": "_JFmhs8zwbKf"
      }
    },
    {
      "cell_type": "markdown",
      "source": [
        "###**1. Import Libraries**"
      ],
      "metadata": {
        "id": "a3RpXobSwUHa"
      }
    },
    {
      "cell_type": "code",
      "execution_count": null,
      "metadata": {
        "id": "JAm5dqeCwFqj"
      },
      "outputs": [],
      "source": [
        "# Import Libraries\n",
        "\n",
        "import pandas as pd\n",
        "import os\n",
        "from google.colab import files"
      ]
    },
    {
      "cell_type": "markdown",
      "source": [
        "###**2. Upload CSV Files**"
      ],
      "metadata": {
        "id": "nSoUuSXaw30p"
      }
    },
    {
      "cell_type": "code",
      "source": [
        "# Upload multiple files\n",
        "\n",
        "uploaded = files.upload()"
      ],
      "metadata": {
        "id": "KPGvsRCKxIEC"
      },
      "execution_count": null,
      "outputs": []
    },
    {
      "cell_type": "markdown",
      "source": [
        "###**3. Merge CSV Files into Excel**"
      ],
      "metadata": {
        "id": "ahtgn_G9xhqo"
      }
    },
    {
      "cell_type": "code",
      "source": [
        "# Create a Pandas Excel writer using Openpyxl\n",
        "\n",
        "output_excel = 'merged_files.xlsx'\n",
        "\n",
        "with pd.ExcelWriter(output_excel, engine='openpyxl') as writer:\n",
        "    for filename in uploaded.keys():\n",
        "        if filename.endswith('.csv'):\n",
        "            df = pd.read_csv(filename)\n",
        "            # Use the full filename (without .csv) as the sheet name\n",
        "            sheet_name = os.path.splitext(filename)[0]\n",
        "            # Excel sheet names have a 31-character limit\n",
        "            if len(sheet_name) > 31:\n",
        "                sheet_name = sheet_name[:31]  # Trim to 31 characters\n",
        "            df.to_excel(writer, sheet_name=sheet_name, index=False)\n",
        "\n",
        "print(f\"All CSV files have been merged into {output_excel}\")"
      ],
      "metadata": {
        "id": "LQ98qHG3xYGw"
      },
      "execution_count": null,
      "outputs": []
    },
    {
      "cell_type": "markdown",
      "source": [
        "###**4. Download the Merged Excel File**"
      ],
      "metadata": {
        "id": "Jtgz0OtExphT"
      }
    },
    {
      "cell_type": "code",
      "source": [
        "# Download the merged Excel file\n",
        "\n",
        "files.download(output_excel)"
      ],
      "metadata": {
        "id": "upqsPdI0xvsC"
      },
      "execution_count": null,
      "outputs": []
    }
  ]
}